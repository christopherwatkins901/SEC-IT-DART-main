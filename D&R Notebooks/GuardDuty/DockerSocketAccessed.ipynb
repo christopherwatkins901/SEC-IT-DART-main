{
 "cells": [
  {
   "cell_type": "markdown",
   "metadata": {},
   "source": [
    "# Unauthorized Access to Docker Socket - Investigation and Response\n",
    "This notebook is designed to investigate unauthorized or suspicious access to the Docker socket within your AWS environment. We will query CloudTrail logs using Athena to detect and analyze such activities.\n",
    "\n",
    "We are following best practices from the AWS Incident Response guide:\n",
    "\n",
    "https://docs.aws.amazon.com/whitepapers/latest/aws-security-incident-response-guide/aws-security-incident-response-guide.html"
   ]
  },
  {
   "cell_type": "markdown",
   "metadata": {},
   "source": [
    "# Alerting and Detection Strategy (ADS)\n",
    "## Goal\n",
    "Detect unauthorized or suspicious access to the Docker socket, which could lead to privilege escalation.\n",
    "## Categorization\n",
    "MITRE ATT&CK: Privilege Escalation\n",
    "## Strategy Abstract\n",
    "This ADS uses AWS GuardDuty alerts and Athena queries to detect unauthorized Docker socket access. It also includes Python code for automated responses.\n",
    "## Technical Context\n",
    "AWS GuardDuty generates alerts for suspicious activities. Athena queries can further filter these alerts. Python code can automate responses.\n",
    "## Blind Spots and Assumptions\n",
    "Assumes GuardDuty and CloudTrail are properly configured. May not detect activities that bypass these services.\n",
    "## False Positives\n",
    "Administrative activities that require Docker socket access.\n",
    "## Validation\n",
    "Trigger a GuardDuty alert by accessing the Docker socket in a test environment.\n",
    "## Priority\n",
    "High\n",
    "## Response\n",
    "Isolate affected instance, investigate the root cause, and apply necessary patches.\n",
    "## Additional Resources\n",
    "AWS GuardDuty Documentation, AWS Athena Documentation"
   ]
  },
  {
   "cell_type": "markdown",
   "metadata": {},
   "source": [
    "## Identification and Isolation\n",
    "1. Open the GuardDuty console at https://console.aws.amazon.com/guardduty/.\n",
    "2. On the Findings page, choose the corresponding finding to open the findings panel.\n",
    "3. In the findings panel, under the Resource affected section, you can view the container's ID and Name.\n",
    "4. Move to the setup section and run the Athena queries to be investigating the root cause.\n",
    "5. Isolate this container from other container workloads if the alert is confirmed malicous. "
   ]
  },
  {
   "cell_type": "markdown",
   "metadata": {},
   "source": [
    "# Setup"
   ]
  },
  {
   "cell_type": "markdown",
   "metadata": {},
   "source": [
    "## Load Libraries\n",
    "To query CloudTrail and interact with AWS, we need to load several libraries and configure our environment."
   ]
  },
  {
   "cell_type": "code",
   "execution_count": null,
   "metadata": {},
   "outputs": [],
   "source": [
    "pip install pyathena --quiet"
   ]
  },
  {
   "cell_type": "code",
   "execution_count": null,
   "metadata": {},
   "outputs": [],
   "source": [
    "import boto3\n",
    "import pandas as pd\n",
    "from pyathena import connect\n",
    "region = 'us-east-1'\n",
    "athena_bucket = 's3:// ENTER BUCKET NAME HERE /'\n",
    "db_name = 'security_analysis'"
   ]
  },
  {
   "cell_type": "markdown",
   "metadata": {},
   "source": [
    "## 1.0 Set up helper function for Athena"
   ]
  },
  {
   "cell_type": "markdown",
   "metadata": {},
   "source": [
    "The Python query_results function will help you query Athena tables."
   ]
  },
  {
   "cell_type": "code",
   "execution_count": null,
   "metadata": {},
   "outputs": [],
   "source": [
    "def query_results(sql):\n",
    "    cursor = connect(s3_staging_dir=athena_bucket, region_name=region).cursor()\n",
    "    cursor.execute(sql)\n",
    "    columns = cursor.description\n",
    "    data = cursor.fetchall()\n",
    "    column_names = [column[0] for column in columns]\n",
    "    rows = [dict(zip(column_names, data_row)) for data_row in data]\n",
    "    df = pd.DataFrame(rows, columns=column_names)\n",
    "    df1 = df.style.set_table_styles([dict(selector='th', props=[('text-align', 'center')])])\n",
    "    return df1.set_properties(**{'text-align': 'center'})"
   ]
  },
  {
   "cell_type": "markdown",
   "metadata": {},
   "source": [
    "# 2.0 Docker Socket Investigation"
   ]
  },
  {
   "cell_type": "markdown",
   "metadata": {},
   "source": [
    "### 2.1 Investigating Unauthorized Access\n",
    "Lists unauthorized access attempts to the Docker socket with additional information such as the user identity ARN, time, AWS service, API call, region, and source IP address."
   ]
  },
  {
   "cell_type": "code",
   "execution_count": null,
   "metadata": {},
   "outputs": [],
   "source": [
    "unauthorized_access = f\"\"\"\n",
    "SELECT *\n",
    "FROM \\\"{db_name}\\\".\\\"cloudtrail\\\"\n",
    "WHERE eventSource = 'ecs.amazonaws.com'\n",
    "AND eventName = 'CreateContainerInstance'\n",
    "AND requestParameters LIKE '%docker.sock%'\n",
    "ORDER BY eventTime DESC\n",
    "LIMIT 10\n",
    "\"\"\""
   ]
  },
  {
   "cell_type": "code",
   "execution_count": null,
   "metadata": {},
   "outputs": [],
   "source": [
    "results = query_results(unauthorized_access)\n",
    "results"
   ]
  },
  {
   "cell_type": "markdown",
   "metadata": {},
   "source": [
    "### 2.2 Additional Athena Queries for Investigation\n",
    "You can perform additional Athena queries to further investigate the unauthorized or suspicious access to the Docker socket."
   ]
  },
  {
   "cell_type": "code",
   "execution_count": null,
   "metadata": {},
   "outputs": [],
   "source": [
    "additional_query = f\"\"\"\n",
    "SELECT userIdentity.arn, count(*) AS total\n",
    "FROM \\\"{db_name}\\\".\\\"cloudtrail\\\"\n",
    "WHERE eventSource = 'ecs.amazonaws.com'\n",
    "AND eventName = 'CreateContainerInstance'\n",
    "AND requestParameters LIKE '%docker.sock%'\n",
    "GROUP BY userIdentity.arn\n",
    "ORDER BY total DESC\n",
    "\"\"\""
   ]
  },
  {
   "cell_type": "code",
   "execution_count": null,
   "metadata": {},
   "outputs": [],
   "source": [
    "results = query_results(additional_query)\n",
    "results"
   ]
  },
  {
   "cell_type": "markdown",
   "metadata": {},
   "source": [
    "### 3.0 Automated Response"
   ]
  },
  {
   "cell_type": "markdown",
   "metadata": {},
   "source": [
    "## Pause the Container\n",
    "Suspend all the processes in your container."
   ]
  },
  {
   "cell_type": "code",
   "execution_count": null,
   "metadata": {},
   "outputs": [],
   "source": [
    "import docker\n",
    "client = docker.from_env()\n",
    "\n",
    "def pause_container(container_id):\n",
    "    container = client.containers.get(container_id)\n",
    "    container.pause()\n",
    "    print(f'Container {container_id} has been paused.')\n",
    "\n",
    "# Uncomment the next line and replace 'container_id' with the actual container ID to execute the pause\n",
    "# pause_container('container_id')"
   ]
  },
  {
   "cell_type": "markdown",
   "metadata": {},
   "source": [
    "## Stop the Container\n",
    "If pausing the container fails, stop the container from running."
   ]
  },
  {
   "cell_type": "code",
   "execution_count": null,
   "metadata": {},
   "outputs": [],
   "source": [
    "def stop_container(container_id):\n",
    "    container = client.containers.get(container_id)\n",
    "    container.stop()\n",
    "    print(f'Container {container_id} has been stopped.')\n",
    "\n",
    "# Uncomment the next line and replace 'container_id' with the actual container ID to execute the stop\n",
    "# stop_container('container_id')"
   ]
  },
  {
   "cell_type": "markdown",
   "metadata": {},
   "source": [
    "## Evaluate the Presence of Malware\n",
    "Evaluate if malware was in the container's image. Consider scanning the image with AWS Guard Duty.\n",
    "https://docs.aws.amazon.com/guardduty/latest/ug/malware-protection.html"
   ]
  }
 ],
 "metadata": {
  "kernelspec": {
   "display_name": "conda_python3",
   "language": "python",
   "name": "conda_python3"
  },
  "language_info": {
   "codemirror_mode": {
    "name": "ipython",
    "version": 3
   },
   "file_extension": ".py",
   "mimetype": "text/x-python",
   "name": "python",
   "nbconvert_exporter": "python",
   "pygments_lexer": "ipython3",
   "version": "3.10.8"
  }
 },
 "nbformat": 4,
 "nbformat_minor": 5
}
